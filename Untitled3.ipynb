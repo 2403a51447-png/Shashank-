{
  "nbformat": 4,
  "nbformat_minor": 0,
  "metadata": {
    "colab": {
      "provenance": [],
      "authorship_tag": "ABX9TyPdgLmx49iqmV4UScGEQIjh",
      "include_colab_link": true
    },
    "kernelspec": {
      "name": "python3",
      "display_name": "Python 3"
    },
    "language_info": {
      "name": "python"
    }
  },
  "cells": [
    {
      "cell_type": "markdown",
      "metadata": {
        "id": "view-in-github",
        "colab_type": "text"
      },
      "source": [
        "<a href=\"https://colab.research.google.com/github/2403a51447-png/Shashank-/blob/main/Untitled3.ipynb\" target=\"_parent\"><img src=\"https://colab.research.google.com/assets/colab-badge.svg\" alt=\"Open In Colab\"/></a>"
      ]
    },
    {
      "cell_type": "code",
      "execution_count": 2,
      "metadata": {
        "colab": {
          "base_uri": "https://localhost:8080/"
        },
        "id": "oXUp0KI0Sotc",
        "outputId": "179e4a7b-0199-492e-ea5d-0a561fa11282"
      },
      "outputs": [
        {
          "output_type": "stream",
          "name": "stdout",
          "text": [
            "Created List: [1, 2, 3, 'apple', 'banana']\n",
            "Created Tuple: (10, 20, 'orange', 'grape')\n",
            "Created Dictionary: {'name': 'Alice', 'age': 30, 'city': 'New York'}\n",
            "\n",
            "DataFrame from Dictionary:\n",
            "    Name  Age    City\n",
            "0   John   28  London\n",
            "1   Anna   24   Paris\n",
            "2  Peter   35  Berlin\n",
            "3  Linda   32    Rome\n",
            "\n",
            "DataFrame from List of Lists:\n",
            "    Item  Price  Quantity\n",
            "0   Milk    2.5        10\n",
            "1  Bread    1.8         5\n",
            "2   Eggs    3.2        12\n",
            "\n",
            "DataFrame from List of Tuples:\n",
            "    Product  Cost\n",
            "0    Laptop  1200\n",
            "1     Mouse    25\n",
            "2  Keyboard    75\n"
          ]
        }
      ],
      "source": [
        "import pandas as pd\n",
        "\n",
        "my_list = [1, 2, 3, \"apple\", \"banana\"]\n",
        "print(\"Created List:\", my_list)\n",
        "\n",
        "my_tuple = (10, 20, \"orange\", \"grape\")\n",
        "print(\"Created Tuple:\", my_tuple)\n",
        "\n",
        "my_dict = {\n",
        "    \"name\": \"Alice\",\n",
        "    \"age\": 30,\n",
        "    \"city\": \"New York\"\n",
        "}\n",
        "print(\"Created Dictionary:\", my_dict)\n",
        "\n",
        "data = {\n",
        "    'Name': ['John', 'Anna', 'Peter', 'Linda'],\n",
        "    'Age': [28, 24, 35, 32],\n",
        "    'City': ['London', 'Paris', 'Berlin', 'Rome']\n",
        "}\n",
        "df_from_dict = pd.DataFrame(data)\n",
        "print(\"\\nDataFrame from Dictionary:\")\n",
        "print(df_from_dict)\n",
        "\n",
        "list_of_lists_data = [\n",
        "    ['Milk', 2.50, 10],\n",
        "    ['Bread', 1.80, 5],\n",
        "    ['Eggs', 3.20, 12]\n",
        "]\n",
        "df_from_list_of_lists = pd.DataFrame(list_of_lists_data, columns=['Item', 'Price', 'Quantity'])\n",
        "print(\"\\nDataFrame from List of Lists:\")\n",
        "print(df_from_list_of_lists)\n",
        "\n",
        "list_of_tuples_data = [\n",
        "    ('Laptop', 1200),\n",
        "    ('Mouse', 25),\n",
        "    ('Keyboard', 75)\n",
        "]\n",
        "df_from_list_of_tuples = pd.DataFrame(list_of_tuples_data, columns=['Product', 'Cost'])\n",
        "print(\"\\nDataFrame from List of Tuples:\")\n",
        "print(df_from_list_of_tuples)"
      ]
    }
  ]
}